{
 "cells": [
  {
   "cell_type": "code",
   "execution_count": 15,
   "id": "e761a639-6c90-4e29-aaea-96a5f61c2567",
   "metadata": {},
   "outputs": [],
   "source": [
    "A = [\"hard rock\",10,1.2]\n",
    "B = A[:]\n"
   ]
  },
  {
   "cell_type": "code",
   "execution_count": 21,
   "id": "bfe75efd-8f69-4e05-82c7-d5679af8d855",
   "metadata": {},
   "outputs": [],
   "source": [
    "A[0]= \"banana\""
   ]
  },
  {
   "cell_type": "code",
   "execution_count": 20,
   "id": "0677ef8b-4839-433d-9bd5-21808d33be6b",
   "metadata": {},
   "outputs": [
    {
     "name": "stdout",
     "output_type": "stream",
     "text": [
      "['banana', 10, 1.2]\n"
     ]
    }
   ],
   "source": [
    "print(A)"
   ]
  },
  {
   "cell_type": "code",
   "execution_count": 24,
   "id": "8b087135-0c8d-43a2-ab2a-25dc2abe0bc7",
   "metadata": {},
   "outputs": [
    {
     "name": "stdout",
     "output_type": "stream",
     "text": [
      "['hard rock', 10, 1.2]\n"
     ]
    }
   ],
   "source": [
    "print(B)"
   ]
  },
  {
   "cell_type": "code",
   "execution_count": 25,
   "id": "90ec626e-4a2f-423d-88ef-8680bff672bb",
   "metadata": {},
   "outputs": [],
   "source": [
    "B[0]:\"\""
   ]
  },
  {
   "cell_type": "code",
   "execution_count": 26,
   "id": "58477805-fe15-4a31-8976-18a057ad6827",
   "metadata": {},
   "outputs": [
    {
     "data": {
      "text/plain": [
       "'hard rock'"
      ]
     },
     "execution_count": 26,
     "metadata": {},
     "output_type": "execute_result"
    }
   ],
   "source": [
    "B[0]"
   ]
  },
  {
   "cell_type": "code",
   "execution_count": 31,
   "id": "516ccaa2-8637-4815-9cd8-17e1b2c6fdc1",
   "metadata": {},
   "outputs": [
    {
     "data": {
      "text/plain": [
       "5"
      ]
     },
     "execution_count": 31,
     "metadata": {},
     "output_type": "execute_result"
    }
   ],
   "source": [
    "def add(a,b):\n",
    "    c=a+b\n",
    "    return c\n",
    "\n",
    "add (2,3)\n"
   ]
  },
  {
   "cell_type": "code",
   "execution_count": null,
   "id": "d4b9a3d3-9bb9-408b-898c-02a73281541d",
   "metadata": {},
   "outputs": [],
   "source": []
  }
 ],
 "metadata": {
  "kernelspec": {
   "display_name": "Python 3 (ipykernel)",
   "language": "python",
   "name": "python3"
  },
  "language_info": {
   "codemirror_mode": {
    "name": "ipython",
    "version": 3
   },
   "file_extension": ".py",
   "mimetype": "text/x-python",
   "name": "python",
   "nbconvert_exporter": "python",
   "pygments_lexer": "ipython3",
   "version": "3.10.4"
  }
 },
 "nbformat": 4,
 "nbformat_minor": 5
}
